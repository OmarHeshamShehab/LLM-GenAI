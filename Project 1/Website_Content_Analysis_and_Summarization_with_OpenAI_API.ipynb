{
 "cells": [
  {
   "cell_type": "markdown",
   "metadata": {},
   "source": [
    "# Importing Libraries"
   ]
  },
  {
   "cell_type": "code",
   "execution_count": 1,
   "metadata": {},
   "outputs": [],
   "source": [
    "import os\n",
    "import requests\n",
    "from dotenv import load_dotenv\n",
    "from bs4 import BeautifulSoup\n",
    "from IPython.display import Markdown, display\n",
    "from openai import OpenAI"
   ]
  },
  {
   "cell_type": "markdown",
   "metadata": {},
   "source": [
    "# Load environment & Check the key"
   ]
  },
  {
   "cell_type": "code",
   "execution_count": 2,
   "metadata": {},
   "outputs": [
    {
     "name": "stdout",
     "output_type": "stream",
     "text": [
      "API key found and looks good so far!\n"
     ]
    }
   ],
   "source": [
    "load_dotenv()\n",
    "api_key = os.getenv(\"OPENAI_API_KEY\")\n",
    "openai = OpenAI()\n",
    "\n",
    "if api_key:\n",
    "    print(\"API key found and looks good so far!\")\n",
    "else:\n",
    "    print(\"API key not found. Please check your .env file.\")"
   ]
  },
  {
   "cell_type": "markdown",
   "metadata": {},
   "source": [
    "# Define Class to represent Webpage"
   ]
  },
  {
   "cell_type": "code",
   "execution_count": 3,
   "metadata": {},
   "outputs": [],
   "source": [
    "class Website:\n",
    "    url: str\n",
    "    title: str\n",
    "    text: str\n",
    "\n",
    "    def __init__(self, url):\n",
    "        self.url = url\n",
    "        response = requests.get(url)\n",
    "        soup = BeautifulSoup(response.content, \"html.parser\")\n",
    "        self.title = soup.title.string if soup.title else \"there is no title\"\n",
    "        for irrelevent in soup.body([\"script\", \"style\", \"img\", \"input\"]):\n",
    "            irrelevent.decompose()\n",
    "        self.text = soup.body.get_text(separator=\"\\n\", strip=True)"
   ]
  },
  {
   "cell_type": "code",
   "execution_count": 4,
   "metadata": {},
   "outputs": [
    {
     "name": "stdout",
     "output_type": "stream",
     "text": [
      "Set up a retail  channel - Commerce | Dynamics 365 | Microsoft Learn\n"
     ]
    }
   ],
   "source": [
    "commerce = Website(\n",
    "    \"https://learn.microsoft.com/en-us/dynamics365/commerce/channel-setup-retail\"\n",
    ")\n",
    "print(commerce.title)"
   ]
  },
  {
   "cell_type": "code",
   "execution_count": 5,
   "metadata": {},
   "outputs": [],
   "source": [
    "system_prompt = \"\"\"\n",
    "You are an assistant tasked with analyzing a website's content and offering a brief summary. \n",
    "Avoid including text that seems related to navigation. Reply in markdown format.\n",
    "\"\"\""
   ]
  },
  {
   "cell_type": "code",
   "execution_count": 6,
   "metadata": {},
   "outputs": [],
   "source": [
    "def user_prompt_for(Website):\n",
    "    user_prompt = f\"the Website title is {Website.title}\"\n",
    "    user_prompt += \"\"\"\n",
    "    The contents of this website is as follows; \\\n",
    "    please provide a short summary of this website in markdown. \\\n",
    "    If it includes news or announcements, then summarize these too.\\n\\n\n",
    "    \"\"\"\n",
    "    user_prompt += Website.text\n",
    "    return user_prompt"
   ]
  },
  {
   "cell_type": "markdown",
   "metadata": {},
   "source": [
    "The API from OpenAI expects to receive messages in a particular structure.  \n",
    "Many of the other APIs share this structure:  \n",
    "\n",
    "[\n",
    "    {\"role\": \"system\", \"content\": \"system message goes here\"},\n",
    "    {\"role\": \"user\", \"content\": \"user message goes here\"}\n",
    "]\n"
   ]
  },
  {
   "cell_type": "code",
   "execution_count": 7,
   "metadata": {},
   "outputs": [],
   "source": [
    "def messages_for(website):\n",
    "    return [\n",
    "        {\"role\": \"system\", \"content\": system_prompt},\n",
    "        {\"role\": \"user\", \"content\": user_prompt_for(website)},\n",
    "    ]"
   ]
  },
  {
   "cell_type": "code",
   "execution_count": 8,
   "metadata": {},
   "outputs": [],
   "source": [
    "def summarize(url):\n",
    "    website = Website(url)\n",
    "    response = openai.chat.completions.create(\n",
    "        model=\"gpt-4o-mini\", messages=messages_for(website)\n",
    "    )\n",
    "    return response.choices[0].message.content"
   ]
  },
  {
   "cell_type": "code",
   "execution_count": 9,
   "metadata": {},
   "outputs": [
    {
     "data": {
      "text/plain": [
       "'# Summary of \"Set up a retail channel - Commerce | Dynamics 365 | Microsoft Learn\"\\n\\nThis webpage provides a comprehensive guide on creating and configuring a retail channel using Microsoft Dynamics 365 Commerce. It emphasizes the support for multiple retail channels including online stores, call centers, and brick-and-mortar locations, each customizable with unique settings such as payment methods, price groups, and staff assignments. \\n\\n## Key Content Highlights:\\n\\n- **Retail Channel Creation Steps**: Instructions on setting up a new retail channel, including details on naming, identifying store numbers and legal entities, selecting time zones, and setting up various profiles.\\n\\n- **Payment Methods**: Detailed processes to configure payment methods for each channel, including cash declarations and modes of delivery.\\n\\n- **Additional Configuration**: Guidance on setting up income/expense accounts, fulfillment groups, and ensuring unique transaction IDs using a new format to avoid duplicates.\\n\\n- **Store Location Setup**: Steps to establish latitude and longitude data for store locations, which is essential for POS and e-commerce functionalities.\\n\\n- **Latest Feature on Transaction IDs**: An announcement regarding a new transaction ID format to ensure uniqueness, part of the Commerce version 10.0.41 default settings.\\n\\nThis article serves as a vital resource for users looking to effectively manage and set up retail channels in Dynamics 365 Commerce.'"
      ]
     },
     "execution_count": 9,
     "metadata": {},
     "output_type": "execute_result"
    }
   ],
   "source": [
    "summarize(\"https://learn.microsoft.com/en-us/dynamics365/commerce/channel-setup-retail\")"
   ]
  },
  {
   "cell_type": "markdown",
   "metadata": {},
   "source": [
    "# A function to display this nicely in the Jupyter output, using markdown"
   ]
  },
  {
   "cell_type": "code",
   "execution_count": 10,
   "metadata": {},
   "outputs": [],
   "source": [
    "def display_summary(url):\n",
    "    summary = summarize(url)\n",
    "    display(Markdown(summary))"
   ]
  },
  {
   "cell_type": "code",
   "execution_count": 11,
   "metadata": {},
   "outputs": [
    {
     "data": {
      "text/markdown": [
       "# Summary: Set Up a Retail Channel - Dynamics 365 Commerce\n",
       "\n",
       "This article from Microsoft Learn provides a comprehensive guide on how to create and configure a new retail channel in Microsoft Dynamics 365 Commerce. It outlines the different types of retail channels supported, such as online stores, call centers, and brick-and-mortar locations. \n",
       "\n",
       "## Key Points:\n",
       "\n",
       "- **Channel Setup Prerequisites**: Before creating a retail channel, certain prerequisites must be fulfilled.\n",
       "- **Creation Procedure**: The guide details step-by-step instructions for setting up a new retail channel, including necessary configurations such as store name, store number, legal entity, warehouse, timezone, sales tax group, and default customer settings.\n",
       "- **Payment Methods**: Instructions are provided for setting up various payment methods, cash declarations, modes of delivery, income/expense accounts, sections, fulfillment group assignments, and safes.\n",
       "- **Transaction ID Format**: A new 13-digit transaction ID format is introduced to prevent duplicate transaction IDs, which is particularly beneficial in both online and offline sales modes.\n",
       "- **Store Locations**: It covers how to set up store location data that can be used in POS and e-commerce scenarios.\n",
       "\n",
       "## Announcement:\n",
       "- The new transaction ID format feature is enabled by default starting with Commerce version 10.0.41, ensuring uniqueness in transaction IDs. \n",
       "\n",
       "This guide serves as a detailed reference for retail professionals looking to set up and manage their retail channels effectively within the Dynamics 365 Commerce framework."
      ],
      "text/plain": [
       "<IPython.core.display.Markdown object>"
      ]
     },
     "metadata": {},
     "output_type": "display_data"
    }
   ],
   "source": [
    "display_summary(\n",
    "    \"https://learn.microsoft.com/en-us/dynamics365/commerce/channel-setup-retail\"\n",
    ")"
   ]
  }
 ],
 "metadata": {
  "kernelspec": {
   "display_name": "Python 3",
   "language": "python",
   "name": "python3"
  },
  "language_info": {
   "codemirror_mode": {
    "name": "ipython",
    "version": 3
   },
   "file_extension": ".py",
   "mimetype": "text/x-python",
   "name": "python",
   "nbconvert_exporter": "python",
   "pygments_lexer": "ipython3",
   "version": "3.11.10"
  }
 },
 "nbformat": 4,
 "nbformat_minor": 2
}
