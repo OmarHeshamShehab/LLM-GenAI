{
 "cells": [
  {
   "cell_type": "markdown",
   "metadata": {},
   "source": [
    "# Importing Libraries"
   ]
  },
  {
   "cell_type": "code",
   "execution_count": 1,
   "metadata": {},
   "outputs": [
    {
     "ename": "ModuleNotFoundError",
     "evalue": "No module named 'requests'",
     "output_type": "error",
     "traceback": [
      "\u001b[1;31m---------------------------------------------------------------------------\u001b[0m",
      "\u001b[1;31mModuleNotFoundError\u001b[0m                       Traceback (most recent call last)",
      "Cell \u001b[1;32mIn[1], line 2\u001b[0m\n\u001b[0;32m      1\u001b[0m \u001b[38;5;28;01mimport\u001b[39;00m \u001b[38;5;21;01mos\u001b[39;00m\n\u001b[1;32m----> 2\u001b[0m \u001b[38;5;28;01mimport\u001b[39;00m \u001b[38;5;21;01mrequests\u001b[39;00m\n\u001b[0;32m      3\u001b[0m \u001b[38;5;28;01mfrom\u001b[39;00m \u001b[38;5;21;01mdotenv\u001b[39;00m \u001b[38;5;28;01mimport\u001b[39;00m load_dotenv\n\u001b[0;32m      4\u001b[0m \u001b[38;5;28;01mfrom\u001b[39;00m \u001b[38;5;21;01mbs4\u001b[39;00m \u001b[38;5;28;01mimport\u001b[39;00m BeautifulSoup\n",
      "\u001b[1;31mModuleNotFoundError\u001b[0m: No module named 'requests'"
     ]
    }
   ],
   "source": [
    "import os\n",
    "import requests\n",
    "from dotenv import load_dotenv\n",
    "from bs4 import BeautifulSoup\n",
    "from IPython.display import Markdown, display\n",
    "from openai import OpenAI"
   ]
  },
  {
   "cell_type": "markdown",
   "metadata": {},
   "source": [
    "# Load environment & Check the key"
   ]
  },
  {
   "cell_type": "code",
   "execution_count": null,
   "metadata": {},
   "outputs": [
    {
     "name": "stdout",
     "output_type": "stream",
     "text": [
      "API key found and looks good so far!\n"
     ]
    }
   ],
   "source": [
    "load_dotenv()\n",
    "api_key = os.getenv(\"OPENAI_API_KEY\")\n",
    "openai = OpenAI()\n",
    "\n",
    "if api_key:\n",
    "    print(\"API key found and looks good so far!\")\n",
    "else:\n",
    "    print(\"API key not found. Please check your .env file.\")"
   ]
  },
  {
   "cell_type": "markdown",
   "metadata": {},
   "source": [
    "# Define Class to represent Webpage"
   ]
  },
  {
   "cell_type": "code",
   "execution_count": null,
   "metadata": {},
   "outputs": [],
   "source": [
    "class Website:\n",
    "    url: str\n",
    "    title: str\n",
    "    text: str\n",
    "\n",
    "    def __init__(self, url):\n",
    "        self.url = url\n",
    "        response = requests.get(url)\n",
    "        soup = BeautifulSoup(response.content, \"html.parser\")\n",
    "        self.title = soup.title.string if soup.title else \"there is no title\"\n",
    "        for irrelevent in soup.body([\"script\", \"style\", \"img\", \"input\"]):\n",
    "            irrelevent.decompose()\n",
    "        self.text = soup.body.get_text(separator=\"\\n\", strip=True)"
   ]
  },
  {
   "cell_type": "code",
   "execution_count": null,
   "metadata": {},
   "outputs": [
    {
     "name": "stdout",
     "output_type": "stream",
     "text": [
      "Set up a retail  channel - Commerce | Dynamics 365 | Microsoft Learn\n"
     ]
    }
   ],
   "source": [
    "ed = Website(\n",
    "    \"https://learn.microsoft.com/en-us/dynamics365/commerce/channel-setup-retail\"\n",
    ")\n",
    "print(ed.title)\n",
    "# print(ed.text)"
   ]
  },
  {
   "cell_type": "code",
   "execution_count": null,
   "metadata": {},
   "outputs": [],
   "source": [
    "system_prompt = \"\"\"\n",
    "You are an assistant tasked with analyzing a website's content and offering a brief summary. \n",
    "Avoid including text that seems related to navigation. Reply in markdown format.\n",
    "\"\"\""
   ]
  },
  {
   "cell_type": "code",
   "execution_count": null,
   "metadata": {},
   "outputs": [],
   "source": [
    "def user_prompt_for(Website):\n",
    "    user_prompt = f\"the Website title is {Website.title}\"\n",
    "    user_prompt += \"\"\"\n",
    "    The contents of this website is as follows; \\\n",
    "    please provide a short summary of this website in markdown. \\\n",
    "    If it includes news or announcements, then summarize these too.\\n\\n\n",
    "    \"\"\"\n",
    "    user_prompt += Website.text\n",
    "    return user_prompt"
   ]
  },
  {
   "cell_type": "markdown",
   "metadata": {},
   "source": [
    "The API from OpenAI expects to receive messages in a particular structure.  \n",
    "Many of the other APIs share this structure:  \n",
    "\n",
    "[\n",
    "    {\"role\": \"system\", \"content\": \"system message goes here\"},\n",
    "    {\"role\": \"user\", \"content\": \"user message goes here\"}\n",
    "]\n"
   ]
  },
  {
   "cell_type": "code",
   "execution_count": null,
   "metadata": {},
   "outputs": [],
   "source": [
    "def messages_for(website):\n",
    "    return [\n",
    "        {\"role\": \"system\", \"content\": system_prompt},\n",
    "        {\"role\": \"user\", \"content\": user_prompt_for(website)},\n",
    "    ]"
   ]
  },
  {
   "cell_type": "code",
   "execution_count": null,
   "metadata": {},
   "outputs": [],
   "source": [
    "def summarize(url):\n",
    "    website = Website(url)\n",
    "    response = openai.chat.completions.create(\n",
    "        model=\"gpt-4o-mini\", messages=messages_for(website)\n",
    "    )\n",
    "    return response.choices[0].message.content"
   ]
  },
  {
   "cell_type": "code",
   "execution_count": null,
   "metadata": {},
   "outputs": [
    {
     "data": {
      "text/plain": [
       "'# Summary of \"Set up a retail channel - Commerce | Dynamics 365 | Microsoft Learn\"\\n\\nThis article provides a comprehensive guide on creating a new retail channel using Microsoft Dynamics 365 Commerce. It highlights the different types of retail channels available, such as online stores, call centers, and physical retail outlets. \\n\\n## Key Points:\\n\\n- **Channel Setup Requirements**: Before establishing a retail channel, certain prerequisites must be met, including configuring payment methods, setting up income and expense accounts, and customizing staff roles.\\n\\n- **Step-by-Step Configuration**: The guide details the process for configuring a new retail channel, including fields such as channel name, store number, legal entity, currency, and more. \\n\\n- **Additional Setup Items**: Instructions for setting up crucial elements like payment methods, cash declarations, delivery modes, income and expense accounts, and fulfillment group assignments are provided. \\n\\n- **Transaction ID Management**: The article introduces a new format for generating unique transaction IDs to prevent duplicates, suggesting the feature is enabled by default in version 10.0.41.\\n\\n- **Store Location Configuration**: Guidelines for setting latitude and longitude for store locations are also included for integrations with POS and e-commerce functionalities.\\n\\n## Updates:\\nAs of October 29, 2024, the article has been collaboratively contributed to by 10 individuals, implying an updated and robust body of knowledge. \\n\\nFor detailed instructions, the article includes illustrations to enhance the setup experience.'"
      ]
     },
     "execution_count": 9,
     "metadata": {},
     "output_type": "execute_result"
    }
   ],
   "source": [
    "summarize(\"https://learn.microsoft.com/en-us/dynamics365/commerce/channel-setup-retail\")"
   ]
  },
  {
   "cell_type": "code",
   "execution_count": null,
   "metadata": {},
   "outputs": [],
   "source": [
    "# A function to display this nicely in the Jupyter output, using markdown\n",
    "\n",
    "\n",
    "def display_summary(url):\n",
    "    summary = summarize(url)\n",
    "    display(Markdown(summary))"
   ]
  },
  {
   "cell_type": "code",
   "execution_count": null,
   "metadata": {},
   "outputs": [
    {
     "data": {
      "text/markdown": [
       "# Summary of \"Set up a retail channel - Commerce | Dynamics 365 | Microsoft Learn\"\n",
       "\n",
       "The webpage provides a detailed guide on how to create and configure new retail channels within Microsoft Dynamics 365 Commerce. It outlines the various types of retail channels, including online stores, call centers, and brick-and-mortar stores. Each channel can have distinct settings such as payment methods, pricing structures, and point-of-sale configurations.\n",
       "\n",
       "## Key Instructions\n",
       "\n",
       "- **Creating a Retail Channel**: Users are guided to navigate to the specific modules in Dynamics 365, input key information (like store name, number, time zone, and tax group), and save the configurations.\n",
       "  \n",
       "- **Additional Settings**: The guide discusses setting up payment methods, cash declarations, modes of delivery, income/expense accounts, sections, and fulfillment group assignments.\n",
       "\n",
       "- **Transaction IDs**: A new format for transaction IDs is introduced to prevent duplication, combining store ID and terminal ID with a timestamp. This new method becomes effective in Commerce version 10.0.41.\n",
       "\n",
       "- **Store Location**: Instructions are given for inputting geographical data, which supports store selection functionality in e-commerce platforms and POS systems.\n",
       "\n",
       "## Additional Information\n",
       "The article is regularly updated, indicating a specific last modification date of October 29, 2024, and encourages user feedback regarding page helpfulness.\n",
       "\n",
       "This resource is crucial for developers and administrators looking to effectively manage and set up retail operations within Dynamics 365 Commerce."
      ],
      "text/plain": [
       "<IPython.core.display.Markdown object>"
      ]
     },
     "metadata": {},
     "output_type": "display_data"
    }
   ],
   "source": [
    "display_summary(\n",
    "    \"https://learn.microsoft.com/en-us/dynamics365/commerce/channel-setup-retail\"\n",
    ")"
   ]
  }
 ],
 "metadata": {
  "kernelspec": {
   "display_name": "Python 3",
   "language": "python",
   "name": "python3"
  },
  "language_info": {
   "codemirror_mode": {
    "name": "ipython",
    "version": 3
   },
   "file_extension": ".py",
   "mimetype": "text/x-python",
   "name": "python",
   "nbconvert_exporter": "python",
   "pygments_lexer": "ipython3",
   "version": "3.11.10"
  }
 },
 "nbformat": 4,
 "nbformat_minor": 2
}
