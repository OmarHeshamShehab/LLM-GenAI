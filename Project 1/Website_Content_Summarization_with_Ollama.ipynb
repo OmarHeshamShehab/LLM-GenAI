{
 "cells": [
  {
   "cell_type": "markdown",
   "metadata": {},
   "source": [
    "# Importing Libraries"
   ]
  },
  {
   "cell_type": "code",
   "execution_count": 1,
   "metadata": {},
   "outputs": [],
   "source": [
    "import os\n",
    "import requests\n",
    "from bs4 import BeautifulSoup\n",
    "from IPython.display import Markdown, display\n",
    "import ollama\n",
    "from ollama import chat"
   ]
  },
  {
   "cell_type": "markdown",
   "metadata": {},
   "source": [
    "# Website class to scrape website data"
   ]
  },
  {
   "cell_type": "code",
   "execution_count": 2,
   "metadata": {},
   "outputs": [],
   "source": [
    "class Website:\n",
    "    \"\"\"\n",
    "    A utility class to represent a Website that we have scraped\n",
    "    \"\"\"\n",
    "\n",
    "    url: str\n",
    "    title: str\n",
    "    text: str\n",
    "\n",
    "    def __init__(self, url):\n",
    "        \"\"\"\n",
    "        Create this Website object from the given url using the BeautifulSoup library\n",
    "        \"\"\"\n",
    "        self.url = url\n",
    "        response = requests.get(url)\n",
    "        soup = BeautifulSoup(response.content, \"html.parser\")\n",
    "        self.title = soup.title.string if soup.title else \"No title found\"\n",
    "        for irrelevant in soup.body([\"script\", \"style\", \"img\", \"input\"]):\n",
    "            irrelevant.decompose()\n",
    "        self.text = soup.body.get_text(separator=\"\\n\", strip=True)"
   ]
  },
  {
   "cell_type": "code",
   "execution_count": 3,
   "metadata": {},
   "outputs": [
    {
     "name": "stdout",
     "output_type": "stream",
     "text": [
      "Set up a retail  channel - Commerce | Dynamics 365 | Microsoft Learn\n"
     ]
    }
   ],
   "source": [
    "commerce = Website(\n",
    "    \"https://learn.microsoft.com/en-us/dynamics365/commerce/channel-setup-retail\"\n",
    ")\n",
    "print(commerce.title)"
   ]
  },
  {
   "cell_type": "markdown",
   "metadata": {},
   "source": [
    "# System prompt for the model"
   ]
  },
  {
   "cell_type": "code",
   "execution_count": 4,
   "metadata": {},
   "outputs": [],
   "source": [
    "system_prompt = \"\"\"\n",
    "You are an assistant that analyzes the contents of a website and provides a short summary, ignoring text that might be navigation related.\n",
    "Respond in markdown.\n",
    "\"\"\""
   ]
  },
  {
   "cell_type": "markdown",
   "metadata": {},
   "source": [
    "# Function to create user prompt for the model"
   ]
  },
  {
   "cell_type": "code",
   "execution_count": 5,
   "metadata": {},
   "outputs": [],
   "source": [
    "def user_prompt_for(Website):\n",
    "    user_prompt = f\"the Website title is {Website.title}\"\n",
    "    user_prompt += \"\"\"\n",
    "    The contents of this website is as follows; \\\n",
    "    please provide a short summary of this website in markdown. \\\n",
    "    If it includes news or announcements, then summarize these too.\\n\\n\n",
    "    \"\"\"\n",
    "    user_prompt += Website.text\n",
    "    return user_prompt"
   ]
  },
  {
   "cell_type": "markdown",
   "metadata": {},
   "source": [
    "# Function to summarize the content of a website"
   ]
  },
  {
   "cell_type": "code",
   "execution_count": 6,
   "metadata": {},
   "outputs": [],
   "source": [
    "def summarize(url):\n",
    "    website = Website(url)\n",
    "    title = website.title  # Assuming the Website object has a title attribute\n",
    "    messages = [\n",
    "        {\"role\": \"system\", \"content\": system_prompt},\n",
    "        {\"role\": \"user\", \"content\": user_prompt_for(website)},\n",
    "    ]\n",
    "    # Disable streaming, get the entire response in one go\n",
    "    response = ollama.chat(\n",
    "        model=\"chevalblanc/gpt-4o-mini\", messages=messages, stream=False\n",
    "    )\n",
    "    summary_content = response[\"message\"][\"content\"]\n",
    "    return {\"title\": title, \"summary\": summary_content}"
   ]
  },
  {
   "cell_type": "markdown",
   "metadata": {},
   "source": [
    "# Function to display the summary of a website"
   ]
  },
  {
   "cell_type": "code",
   "execution_count": 7,
   "metadata": {},
   "outputs": [],
   "source": [
    "def display_summary(url):\n",
    "    summary = summarize(url)\n",
    "    # Format the title and summary separately for Markdown\n",
    "    title = f\"# {summary['title']}\\n\"  # Markdown header for the title\n",
    "    content = summary[\"summary\"]  # Main content\n",
    "    display(Markdown(title + \"\\n\" + content))"
   ]
  },
  {
   "cell_type": "markdown",
   "metadata": {},
   "source": [
    "# Example usage"
   ]
  },
  {
   "cell_type": "code",
   "execution_count": 8,
   "metadata": {},
   "outputs": [
    {
     "data": {
      "text/markdown": [
       "# Store Commerce app - Commerce | Dynamics 365 | Microsoft Learn\n",
       "\n",
       "The user has a series of questions related to the installation, activation and troubleshooting of Store Commerce on Windows devices. The document provides step-by-step instructions for installing, activating and managing WebView versions in order to resolve any issues that may arise during setup or use.\r\n",
       "\r\n",
       "Additionally, there are links provided to further resources such as sample code repositories on GitHub and information about customizing the app using the Commerce SDK."
      ],
      "text/plain": [
       "<IPython.core.display.Markdown object>"
      ]
     },
     "metadata": {},
     "output_type": "display_data"
    }
   ],
   "source": [
    "display_summary(\n",
    "    \"https://learn.microsoft.com/en-us/dynamics365/commerce/dev-itpro/store-commerce\"\n",
    ")"
   ]
  }
 ],
 "metadata": {
  "kernelspec": {
   "display_name": "Python 3",
   "language": "python",
   "name": "python3"
  },
  "language_info": {
   "codemirror_mode": {
    "name": "ipython",
    "version": 3
   },
   "file_extension": ".py",
   "mimetype": "text/x-python",
   "name": "python",
   "nbconvert_exporter": "python",
   "pygments_lexer": "ipython3",
   "version": "3.11.10"
  }
 },
 "nbformat": 4,
 "nbformat_minor": 2
}
