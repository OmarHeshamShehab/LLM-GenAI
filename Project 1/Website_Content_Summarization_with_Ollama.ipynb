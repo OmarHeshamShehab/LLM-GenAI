{
 "cells": [
  {
   "cell_type": "markdown",
   "metadata": {},
   "source": [
    "# Importing Libraries"
   ]
  },
  {
   "cell_type": "code",
   "execution_count": null,
   "metadata": {},
   "outputs": [],
   "source": [
    "import os\n",
    "import requests\n",
    "\n",
    "# from dotenv import load_dotenv\n",
    "from bs4 import BeautifulSoup\n",
    "from IPython.display import Markdown, display\n",
    "import subprocess  # For running the Ollama model command"
   ]
  },
  {
   "cell_type": "markdown",
   "metadata": {},
   "source": [
    "# Load environment & Check for necessary configurations"
   ]
  },
  {
   "cell_type": "code",
   "execution_count": null,
   "metadata": {},
   "outputs": [
    {
     "name": "stdout",
     "output_type": "stream",
     "text": [
      "Using Ollama model 'chevalblanc/gpt-4o-mini' for summarization.\n"
     ]
    }
   ],
   "source": [
    "# load_dotenv()\n",
    "ollama_model = \"chevalblanc/gpt-4o-mini\"\n",
    "\n",
    "if ollama_model:\n",
    "    print(f\"Using Ollama model '{ollama_model}' for summarization.\")\n",
    "else:\n",
    "    print(\"Ollama model not found. Please check your configuration.\")"
   ]
  },
  {
   "cell_type": "markdown",
   "metadata": {},
   "source": [
    "# Define Class to represent Webpage"
   ]
  },
  {
   "cell_type": "code",
   "execution_count": 3,
   "metadata": {},
   "outputs": [],
   "source": [
    "class Website:\n",
    "    url: str\n",
    "    title: str\n",
    "    text: str\n",
    "\n",
    "    def __init__(self, url):\n",
    "        self.url = url\n",
    "        response = requests.get(url)\n",
    "        soup = BeautifulSoup(response.content, \"html.parser\")\n",
    "        self.title = soup.title.string if soup.title else \"There is no title\"\n",
    "        for irrelevant in soup.body([\"script\", \"style\", \"img\", \"input\"]):\n",
    "            irrelevant.decompose()\n",
    "        self.text = soup.body.get_text(separator=\"\\n\", strip=True)"
   ]
  },
  {
   "cell_type": "markdown",
   "metadata": {},
   "source": [
    "# System prompt and user prompt definitions"
   ]
  },
  {
   "cell_type": "code",
   "execution_count": null,
   "metadata": {},
   "outputs": [],
   "source": [
    "system_prompt = \"\"\"\n",
    "You are an assistant tasked with analyzing a website's content and offering a brief summary.\n",
    "Avoid including text that seems related to navigation. Reply in markdown format.\n",
    "\"\"\"\n",
    "\n",
    "\n",
    "def user_prompt_for(website):\n",
    "    user_prompt = f\"The Website title is {website.title}\\n\"\n",
    "    user_prompt += \"The contents of this website are as follows:\\nPlease provide a short summary of this website in markdown.\\n\\n\"\n",
    "    user_prompt += website.text\n",
    "    return user_prompt"
   ]
  },
  {
   "cell_type": "markdown",
   "metadata": {},
   "source": [
    "# Prepare messages for the Ollama model"
   ]
  },
  {
   "cell_type": "code",
   "execution_count": 5,
   "metadata": {},
   "outputs": [],
   "source": [
    "def messages_for(website):\n",
    "    return f\"{system_prompt}\\n\\n{user_prompt_for(website)}\""
   ]
  },
  {
   "cell_type": "markdown",
   "metadata": {},
   "source": [
    "# Summarize function using Ollama"
   ]
  },
  {
   "cell_type": "code",
   "execution_count": 6,
   "metadata": {},
   "outputs": [],
   "source": [
    "def summarize(url):\n",
    "    website = Website(url)\n",
    "    prompt = messages_for(website)\n",
    "    try:\n",
    "        # Run the Ollama command without --prompt, providing prompt as input\n",
    "        result = subprocess.run(\n",
    "            [\"ollama\", \"run\", ollama_model],\n",
    "            input=prompt,  # Send the prompt as standard input\n",
    "            capture_output=True,\n",
    "            text=True,\n",
    "        )\n",
    "        if result.returncode == 0:\n",
    "            return result.stdout.strip()\n",
    "        else:\n",
    "            return f\"Error: {result.stderr}\"\n",
    "    except Exception as e:\n",
    "        return f\"Exception occurred: {str(e)}\""
   ]
  },
  {
   "cell_type": "markdown",
   "metadata": {},
   "source": [
    "# Display the summary in Markdown format"
   ]
  },
  {
   "cell_type": "code",
   "execution_count": 7,
   "metadata": {},
   "outputs": [],
   "source": [
    "def display_summary(url):\n",
    "    summary = summarize(url)\n",
    "    display(Markdown(summary))"
   ]
  },
  {
   "cell_type": "markdown",
   "metadata": {},
   "source": [
    "# Example usage"
   ]
  },
  {
   "cell_type": "code",
   "execution_count": null,
   "metadata": {},
   "outputs": [
    {
     "name": "stdout",
     "output_type": "stream",
     "text": [
      "Model is ready to use.\n"
     ]
    }
   ],
   "source": [
    "# Check if the model is available by trying to run a basic ollama command\n",
    "try:\n",
    "    subprocess.run(\n",
    "        [\"ollama\", \"run\", \"chevalblanc/gpt-4o-mini\", \"--help\"],\n",
    "        check=True,\n",
    "        capture_output=True,\n",
    "    )\n",
    "    print(\"Model is ready to use.\")\n",
    "except subprocess.CalledProcessError:\n",
    "    print(\n",
    "        \"Model 'chevalblanc/gpt-4o-mini' not found. Please run 'ollama run chevalblanc/gpt-4o-mini' to download it.\"\n",
    "    )"
   ]
  },
  {
   "cell_type": "code",
   "execution_count": null,
   "metadata": {},
   "outputs": [
    {
     "data": {
      "text/markdown": [
       "The code is a part of the documentation for Commerce in Dynamics, specifically about setting up and configuring channels. It provides information on how to set up various types of channels like online channels, call center channels, etc., including prerequisites and steps involved in channel setup.\n",
       "\n",
       "It also includes links to related topics such as CCPA opt-out, privacy choices, theme settings, previous versions, blog posts, contribution guidelines, and licensing terms.\n",
       "The documentation is organized into different sections for ease of navigation. It starts with an introduction to the article about setting up channels, followed by a link to the official Dynamics 365 website.\n",
       "\n",
       "It also includes links to related topics like privacy choices, theme settings, previous versions, blog posts, contribution guidelines, and licensing terms.\n",
       "Overall, this code provides comprehensive documentation for configuring various types of channels in Commerce."
      ],
      "text/plain": [
       "<IPython.core.display.Markdown object>"
      ]
     },
     "metadata": {},
     "output_type": "display_data"
    }
   ],
   "source": [
    "display_summary(\n",
    "    \"https://learn.microsoft.com/en-us/dynamics365/commerce/channel-setup-retail\"\n",
    ")"
   ]
  }
 ],
 "metadata": {
  "kernelspec": {
   "display_name": "Python 3",
   "language": "python",
   "name": "python3"
  },
  "language_info": {
   "codemirror_mode": {
    "name": "ipython",
    "version": 3
   },
   "file_extension": ".py",
   "mimetype": "text/x-python",
   "name": "python",
   "nbconvert_exporter": "python",
   "pygments_lexer": "ipython3",
   "version": "3.11.10"
  }
 },
 "nbformat": 4,
 "nbformat_minor": 2
}
